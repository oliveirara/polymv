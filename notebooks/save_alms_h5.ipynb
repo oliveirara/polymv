{
 "cells": [
  {
   "cell_type": "code",
   "execution_count": 1,
   "metadata": {},
   "outputs": [
    {
     "data": {
      "text/plain": [
       "array([ 1.62434536+0.j        , -0.61175641+0.j        ,\n",
       "       -0.52817175+0.j        , ..., -0.89999434+1.14576366j,\n",
       "        0.66198575-1.33261435j, -0.15142114-0.9524053j ])"
      ]
     },
     "execution_count": 1,
     "metadata": {},
     "output_type": "execute_result"
    }
   ],
   "source": [
    "import healpy as hp\n",
    "import numpy as np\n",
    "\n",
    "lmax = 800\n",
    "\n",
    "np.random.seed(1)\n",
    "alm = hp.synalm(np.ones(2000), lmax=lmax)\n",
    "alm"
   ]
  },
  {
   "cell_type": "code",
   "execution_count": 2,
   "metadata": {},
   "outputs": [],
   "source": [
    "import h5py\n",
    "\n",
    "real_part = alm.real  # Extract the real part of the complex array\n",
    "imag_part = alm.imag  # Extract the imaginary part of the complex array\n",
    "\n",
    "# Save to HDF5 File\n",
    "with h5py.File(f'alms_{lmax}.h5', 'w') as h5f:\n",
    "    h5f.create_dataset('real', data=real_part)  # Save the real part\n",
    "    h5f.create_dataset('imag', data=imag_part)  # Save the imaginary part"
   ]
  }
 ],
 "metadata": {
  "kernelspec": {
   "display_name": ".venv",
   "language": "python",
   "name": "python3"
  },
  "language_info": {
   "codemirror_mode": {
    "name": "ipython",
    "version": 3
   },
   "file_extension": ".py",
   "mimetype": "text/x-python",
   "name": "python",
   "nbconvert_exporter": "python",
   "pygments_lexer": "ipython3",
   "version": "3.12.3"
  }
 },
 "nbformat": 4,
 "nbformat_minor": 2
}
