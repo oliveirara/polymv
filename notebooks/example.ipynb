{
 "cells": [
  {
   "cell_type": "code",
   "execution_count": 1,
   "metadata": {},
   "outputs": [],
   "source": [
    "import polymv"
   ]
  },
  {
   "cell_type": "markdown",
   "metadata": {},
   "source": [
    "Let's create a test set of $a_{\\ell m}$s:"
   ]
  },
  {
   "cell_type": "code",
   "execution_count": 2,
   "metadata": {},
   "outputs": [
    {
     "data": {
      "text/plain": [
       "array([ 1.62434536+0.j        , -0.61175641+0.j        ,\n",
       "       -0.52817175+0.j        , ...,  0.46115612+0.59244991j,\n",
       "        0.35090859+1.18446272j, -0.5622994 -0.69337834j])"
      ]
     },
     "execution_count": 2,
     "metadata": {},
     "output_type": "execute_result"
    }
   ],
   "source": [
    "polymv.np.random.seed(1)\n",
    "alm = polymv.hp.synalm(polymv.np.ones(2000), lmax=1500)\n",
    "alm"
   ]
  },
  {
   "cell_type": "markdown",
   "metadata": {},
   "source": [
    "# `polymv.mvs`"
   ]
  },
  {
   "cell_type": "markdown",
   "metadata": {},
   "source": [
    "To obtain multipole vectors:"
   ]
  },
  {
   "cell_type": "code",
   "execution_count": 3,
   "metadata": {},
   "outputs": [
    {
     "name": "stdout",
     "output_type": "stream",
     "text": [
      "Help on function m_vectors in module polymv:\n",
      "\n",
      "m_vectors(alms, l)\n",
      "    Get multipole vectors in spherical coordinates for a multipole given a map.\n",
      "    \n",
      "    Args:\n",
      "        alms (complex array): multipole moments from a map (Healpy indexing).\n",
      "        l (int): multipole.\n",
      "    \n",
      "    Returns:\n",
      "        Float array [theta, phi] in radians.\n",
      "\n"
     ]
    }
   ],
   "source": [
    "help(polymv.mvs.m_vectors)"
   ]
  },
  {
   "cell_type": "markdown",
   "metadata": {},
   "source": [
    "Let's extract the multipole vectors for $\\ell=1500$:"
   ]
  },
  {
   "cell_type": "code",
   "execution_count": 4,
   "metadata": {},
   "outputs": [
    {
     "data": {
      "text/plain": [
       "((3000, 2),\n",
       " array([[ 3.01062304,  1.1866423 ],\n",
       "        [ 3.09263842,  0.21240479],\n",
       "        [ 3.0758707 ,  1.94877701],\n",
       "        ...,\n",
       "        [ 0.07286444,  2.06658143],\n",
       "        [ 0.04895423, -2.92918786],\n",
       "        [ 0.01967822,  0.48225845]]))"
      ]
     },
     "execution_count": 4,
     "metadata": {},
     "output_type": "execute_result"
    }
   ],
   "source": [
    "mvs_1500 = polymv.mvs.m_vectors(alm, 1500)\n",
    "mvs_1500.shape, mvs_1500"
   ]
  },
  {
   "cell_type": "markdown",
   "metadata": {},
   "source": [
    "To extract the multiple multipole vectors for a range or a list of multipoles, let's say from $\\ell=2$ to $\\ell=5$:"
   ]
  },
  {
   "cell_type": "code",
   "execution_count": 5,
   "metadata": {},
   "outputs": [
    {
     "name": "stdout",
     "output_type": "stream",
     "text": [
      "Help on function many_m_vectors in module polymv:\n",
      "\n",
      "many_m_vectors(alm, multipoles, parallel=4)\n",
      "    Get several multipole vectors in spherical coordinates.\n",
      "    \n",
      "    Args:\n",
      "        alms (complex array): multipolar coefficients from a map.\n",
      "        multipoles (list, or range): list or range of multipoles.\n",
      "        parallel (int): number of parallel process.\n",
      "    \n",
      "    Returns:\n",
      "        Float array [multipole, [theta, phi]] in radians.\n",
      "\n"
     ]
    }
   ],
   "source": [
    "help(polymv.mvs.many_m_vectors)"
   ]
  },
  {
   "cell_type": "code",
   "execution_count": 6,
   "metadata": {},
   "outputs": [
    {
     "data": {
      "text/plain": [
       "array([[ 1.83441666,  0.12767786],\n",
       "       [ 1.37302603,  1.33828394],\n",
       "       [ 1.30717599, -3.01391479],\n",
       "       [ 1.76856662, -1.80330872],\n",
       "       [ 2.73836992,  2.08191869],\n",
       "       [ 1.52087956,  0.19300013],\n",
       "       [ 1.62071309, -2.94859252],\n",
       "       [ 2.34022757,  0.13144151],\n",
       "       [ 0.40322273, -1.05967396],\n",
       "       [ 0.80136509, -3.01015115],\n",
       "       [ 2.67239211,  2.6970591 ],\n",
       "       [ 2.72904397, -0.04693826],\n",
       "       [ 1.68134191, -1.61594698],\n",
       "       [ 1.92945378, -0.50881857],\n",
       "       [ 1.46025074,  1.52564568],\n",
       "       [ 1.21213887,  2.63277408],\n",
       "       [ 0.46920054, -0.44453355],\n",
       "       [ 0.41254869,  3.09465439],\n",
       "       [ 1.88305141, -3.08268267],\n",
       "       [ 2.0002518 , -1.95979302],\n",
       "       [ 2.39314475, -0.68251023],\n",
       "       [ 1.80531117,  0.80260215],\n",
       "       [ 2.58851484,  1.73458048],\n",
       "       [ 1.25854124,  0.05890998],\n",
       "       [ 1.14134086,  1.18179963],\n",
       "       [ 0.7484479 ,  2.45908243],\n",
       "       [ 1.33628148, -2.33899051],\n",
       "       [ 0.55307782, -1.40701218]])"
      ]
     },
     "execution_count": 6,
     "metadata": {},
     "output_type": "execute_result"
    }
   ],
   "source": [
    "polymv.mvs.many_m_vectors(alm, range(2, 5 + 1))"
   ]
  },
  {
   "cell_type": "code",
   "execution_count": 7,
   "metadata": {},
   "outputs": [
    {
     "data": {
      "text/plain": [
       "array([[ 1.83441666,  0.12767786],\n",
       "       [ 1.37302603,  1.33828394],\n",
       "       [ 1.30717599, -3.01391479],\n",
       "       [ 1.76856662, -1.80330872],\n",
       "       [ 2.73836992,  2.08191869],\n",
       "       [ 1.52087956,  0.19300013],\n",
       "       [ 1.62071309, -2.94859252],\n",
       "       [ 2.34022757,  0.13144151],\n",
       "       [ 0.40322273, -1.05967396],\n",
       "       [ 0.80136509, -3.01015115],\n",
       "       [ 2.67239211,  2.6970591 ],\n",
       "       [ 2.72904397, -0.04693826],\n",
       "       [ 1.68134191, -1.61594698],\n",
       "       [ 1.92945378, -0.50881857],\n",
       "       [ 1.46025074,  1.52564568],\n",
       "       [ 1.21213887,  2.63277408],\n",
       "       [ 0.46920054, -0.44453355],\n",
       "       [ 0.41254869,  3.09465439],\n",
       "       [ 1.88305141, -3.08268267],\n",
       "       [ 2.0002518 , -1.95979302],\n",
       "       [ 2.39314475, -0.68251023],\n",
       "       [ 1.80531117,  0.80260215],\n",
       "       [ 2.58851484,  1.73458048],\n",
       "       [ 1.25854124,  0.05890998],\n",
       "       [ 1.14134086,  1.18179963],\n",
       "       [ 0.7484479 ,  2.45908243],\n",
       "       [ 1.33628148, -2.33899051],\n",
       "       [ 0.55307782, -1.40701218]])"
      ]
     },
     "execution_count": 7,
     "metadata": {},
     "output_type": "execute_result"
    }
   ],
   "source": [
    "mvs_2_to_5 = polymv.mvs.many_m_vectors(alm, [2, 3, 4, 5])\n",
    "mvs_2_to_5"
   ]
  },
  {
   "cell_type": "markdown",
   "metadata": {},
   "source": [
    "# `polymv.otherfuncs`"
   ]
  },
  {
   "cell_type": "code",
   "execution_count": 8,
   "metadata": {},
   "outputs": [
    {
     "name": "stdout",
     "output_type": "stream",
     "text": [
      "Help on function get_multipole in module polymv:\n",
      "\n",
      "get_multipole(alms, l)\n",
      "    Get specific multipolar coefficients.\n",
      "    \n",
      "    Args:\n",
      "        alms (complex array): multipolar coefficients.\n",
      "        l (int): multipole.\n",
      "    \n",
      "    Returns:\n",
      "        Complex array.\n",
      "\n"
     ]
    }
   ],
   "source": [
    "help(polymv.otherfuncs.get_multipole)"
   ]
  },
  {
   "cell_type": "code",
   "execution_count": 9,
   "metadata": {},
   "outputs": [
    {
     "data": {
      "text/plain": [
       "array([-0.52817175+0.j        , -0.19178766-0.33300332j,\n",
       "        0.14695466-1.39663815j])"
      ]
     },
     "execution_count": 9,
     "metadata": {},
     "output_type": "execute_result"
    }
   ],
   "source": [
    "polymv.otherfuncs.get_multipole(alm, 2)"
   ]
  },
  {
   "cell_type": "markdown",
   "metadata": {},
   "source": [
    "Extract specific multipole vectors from many others:"
   ]
  },
  {
   "cell_type": "code",
   "execution_count": 10,
   "metadata": {},
   "outputs": [
    {
     "data": {
      "text/plain": [
       "array([[ 1.83441666,  0.12767786],\n",
       "       [ 1.37302603,  1.33828394],\n",
       "       [ 1.30717599, -3.01391479],\n",
       "       [ 1.76856662, -1.80330872]])"
      ]
     },
     "execution_count": 10,
     "metadata": {},
     "output_type": "execute_result"
    }
   ],
   "source": [
    "polymv.otherfuncs.get_mvs_from_many(mvs_2_to_5, 2, 5, 2)"
   ]
  },
  {
   "cell_type": "code",
   "execution_count": 11,
   "metadata": {},
   "outputs": [
    {
     "data": {
      "text/plain": [
       "array([[ 1.88305141, -3.08268267],\n",
       "       [ 2.0002518 , -1.95979302],\n",
       "       [ 2.39314475, -0.68251023],\n",
       "       [ 1.80531117,  0.80260215],\n",
       "       [ 2.58851484,  1.73458048],\n",
       "       [ 1.25854124,  0.05890998],\n",
       "       [ 1.14134086,  1.18179963],\n",
       "       [ 0.7484479 ,  2.45908243],\n",
       "       [ 1.33628148, -2.33899051],\n",
       "       [ 0.55307782, -1.40701218]])"
      ]
     },
     "execution_count": 11,
     "metadata": {},
     "output_type": "execute_result"
    }
   ],
   "source": [
    "polymv.otherfuncs.get_mvs_from_many(mvs_2_to_5, 2, 5, 5)"
   ]
  },
  {
   "cell_type": "markdown",
   "metadata": {},
   "source": [
    "Multipole vectors in Cartesian coordinates:"
   ]
  },
  {
   "cell_type": "code",
   "execution_count": 12,
   "metadata": {},
   "outputs": [
    {
     "name": "stdout",
     "output_type": "stream",
     "text": [
      "Help on function to_cart in module polymv:\n",
      "\n",
      "to_cart(theta_phi_array)\n",
      "    Convert spherical to Cartesian coordinate. This function works only for a single multipole or stacked arrays, e.g. 2 and 3 MVs together.\n",
      "    \n",
      "    Args:\n",
      "        theta_phi_array (float array): array containing in radians [theta, phi].\n",
      "    \n",
      "    Returns:\n",
      "        Float array.\n",
      "\n"
     ]
    }
   ],
   "source": [
    "help(polymv.otherfuncs.to_cart)"
   ]
  },
  {
   "cell_type": "code",
   "execution_count": 13,
   "metadata": {},
   "outputs": [
    {
     "data": {
      "text/plain": [
       "array([[ 0.04894393,  0.12107717, -0.99143573],\n",
       "       [ 0.04783496,  0.01031598, -0.99880198],\n",
       "       [-0.02423687,  0.06103879, -0.99784109],\n",
       "       ...,\n",
       "       [-0.03463258,  0.06403453,  0.99734656],\n",
       "       [-0.04783496, -0.01031598,  0.99880198],\n",
       "       [ 0.01743279,  0.0091258 ,  0.99980639]])"
      ]
     },
     "execution_count": 13,
     "metadata": {},
     "output_type": "execute_result"
    }
   ],
   "source": [
    "polymv.otherfuncs.to_cart(mvs_1500)"
   ]
  },
  {
   "cell_type": "markdown",
   "metadata": {},
   "source": [
    "same task for a list of multiple multipole vectors:"
   ]
  },
  {
   "cell_type": "code",
   "execution_count": 14,
   "metadata": {},
   "outputs": [
    {
     "data": {
      "text/plain": [
       "array([[ 0.95759438,  0.12293233, -0.26057752],\n",
       "       [ 0.22593142,  0.95412221,  0.19648358],\n",
       "       [-0.95759438, -0.12293233,  0.26057752],\n",
       "       [-0.22593142, -0.95412221, -0.19648358],\n",
       "       [-0.19193749,  0.34223634, -0.91980122],\n",
       "       [ 0.98021076,  0.19156527,  0.04989604],\n",
       "       [-0.98021076, -0.19156527, -0.04989604],\n",
       "       [ 0.71211037,  0.09414366, -0.69572681],\n",
       "       [ 0.19193749, -0.34223634,  0.91980122],\n",
       "       [-0.71211037, -0.09414366,  0.69572681],\n",
       "       [-0.40822725,  0.19445119, -0.89193007],\n",
       "       [ 0.40050388, -0.01881277, -0.91610192],\n",
       "       [-0.04485981, -0.99288316, -0.11032057],\n",
       "       [ 0.81775031, -0.45614821, -0.35101743],\n",
       "       [ 0.04485981,  0.99288316,  0.11032057],\n",
       "       [-0.81775031,  0.45614821,  0.35101743],\n",
       "       [ 0.40822725, -0.19445119,  0.89193007],\n",
       "       [-0.40050388,  0.01881277,  0.91610192],\n",
       "       [-0.94999241, -0.05602886, -0.30720545],\n",
       "       [-0.34482062, -0.84126687, -0.41637578],\n",
       "       [ 0.52806423, -0.429222  , -0.73274596],\n",
       "       [ 0.67581803,  0.69948098, -0.23237114],\n",
       "       [-0.08565309,  0.51827863, -0.85091175],\n",
       "       [ 0.94999241,  0.05602886,  0.30720545],\n",
       "       [ 0.34482062,  0.84126687,  0.41637578],\n",
       "       [-0.52806423,  0.429222  ,  0.73274596],\n",
       "       [-0.67581803, -0.69948098,  0.23237114],\n",
       "       [ 0.08565309, -0.51827863,  0.85091175]])"
      ]
     },
     "execution_count": 14,
     "metadata": {},
     "output_type": "execute_result"
    }
   ],
   "source": [
    "polymv.otherfuncs.to_cart(mvs_2_to_5)"
   ]
  },
  {
   "cell_type": "markdown",
   "metadata": {},
   "source": [
    "Obtain multipole vectors on north hemisphere:"
   ]
  },
  {
   "cell_type": "code",
   "execution_count": 15,
   "metadata": {},
   "outputs": [
    {
     "name": "stdout",
     "output_type": "stream",
     "text": [
      "Help on function mvs_north in module polymv:\n",
      "\n",
      "mvs_north(mvs)\n",
      "    Get multipole vectors on north hemisphere.\n",
      "    \n",
      "    Args:\n",
      "        mvs (float array): array containing multipole vectors [theta, phi].\n",
      "    \n",
      "    Returns:\n",
      "        Float array [theta, phi] in radians.\n",
      "\n"
     ]
    }
   ],
   "source": [
    "help(polymv.otherfuncs.mvs_north)"
   ]
  },
  {
   "cell_type": "code",
   "execution_count": 16,
   "metadata": {},
   "outputs": [
    {
     "data": {
      "text/plain": [
       "(3000, 2)"
      ]
     },
     "execution_count": 16,
     "metadata": {},
     "output_type": "execute_result"
    }
   ],
   "source": [
    "mvs_1500.shape"
   ]
  },
  {
   "cell_type": "code",
   "execution_count": 17,
   "metadata": {},
   "outputs": [
    {
     "data": {
      "text/plain": [
       "((1500, 2),\n",
       " array([[ 0.59838197, -1.51504829],\n",
       "        [ 1.40210428, -2.77471295],\n",
       "        [ 0.84922632,  2.16353699],\n",
       "        ...,\n",
       "        [ 0.07286444,  2.06658143],\n",
       "        [ 0.04895423, -2.92918786],\n",
       "        [ 0.01967822,  0.48225845]]))"
      ]
     },
     "execution_count": 17,
     "metadata": {},
     "output_type": "execute_result"
    }
   ],
   "source": [
    "polymv.otherfuncs.mvs_north(mvs_1500).shape, polymv.otherfuncs.mvs_north(mvs_1500)"
   ]
  },
  {
   "cell_type": "code",
   "execution_count": 18,
   "metadata": {},
   "outputs": [
    {
     "name": "stdout",
     "output_type": "stream",
     "text": [
      "Help on function many_mvs_north in module polymv:\n",
      "\n",
      "many_mvs_north(mvs, lin, lout)\n",
      "    Get multipole vectors on north hemisphere for multiples multipoles.\n",
      "    \n",
      "    Args:\n",
      "        mvs (float array): array containing multipole vectors [theta, phi].\n",
      "        lin (int): initial multipole.\n",
      "        lout (int): final multipole.\n",
      "    \n",
      "    Returns:\n",
      "        Float array [theta, phi] in radians.\n",
      "\n"
     ]
    }
   ],
   "source": [
    "help(polymv.otherfuncs.many_mvs_north)"
   ]
  },
  {
   "cell_type": "code",
   "execution_count": 19,
   "metadata": {},
   "outputs": [
    {
     "data": {
      "text/plain": [
       "array([[ 1.37302603,  1.33828394],\n",
       "       [ 1.30717599, -3.01391479],\n",
       "       [ 1.52087956,  0.19300013],\n",
       "       [ 0.40322273, -1.05967396],\n",
       "       [ 0.80136509, -3.01015115],\n",
       "       [ 1.46025074,  1.52564568],\n",
       "       [ 1.21213887,  2.63277408],\n",
       "       [ 0.46920054, -0.44453355],\n",
       "       [ 0.41254869,  3.09465439],\n",
       "       [ 1.25854124,  0.05890998],\n",
       "       [ 1.14134086,  1.18179963],\n",
       "       [ 0.7484479 ,  2.45908243],\n",
       "       [ 1.33628148, -2.33899051],\n",
       "       [ 0.55307782, -1.40701218]])"
      ]
     },
     "execution_count": 19,
     "metadata": {},
     "output_type": "execute_result"
    }
   ],
   "source": [
    "polymv.otherfuncs.many_mvs_north(mvs_2_to_5, 2, 5)"
   ]
  },
  {
   "cell_type": "markdown",
   "metadata": {},
   "source": [
    "# `polymv.fvs`:"
   ]
  },
  {
   "cell_type": "code",
   "execution_count": 20,
   "metadata": {},
   "outputs": [
    {
     "name": "stdout",
     "output_type": "stream",
     "text": [
      "Help on function psi in module polymv:\n",
      "\n",
      "psi(mvs, type_='min')\n",
      "    Fréchet Mean maximum or minimum.\n",
      "    \n",
      "    Args:\n",
      "        mvs (float array): multipole vectors from an specific multipole.\n",
      "    \n",
      "    Returns:\n",
      "        A vector.\n",
      "\n"
     ]
    }
   ],
   "source": [
    "help(polymv.fvs.psi)"
   ]
  },
  {
   "cell_type": "code",
   "execution_count": 21,
   "metadata": {},
   "outputs": [
    {
     "data": {
      "text/plain": [
       "array([8.80389499e+03, 6.48388889e-01, 2.74348720e+00])"
      ]
     },
     "execution_count": 21,
     "metadata": {},
     "output_type": "execute_result"
    }
   ],
   "source": [
    "polymv.fvs.psi(mvs_1500)"
   ]
  },
  {
   "cell_type": "code",
   "execution_count": 22,
   "metadata": {},
   "outputs": [
    {
     "data": {
      "text/plain": [
       "array([8.80517528e+03, 1.25981863e+00, 1.34223319e-01])"
      ]
     },
     "execution_count": 22,
     "metadata": {},
     "output_type": "execute_result"
    }
   ],
   "source": [
    "polymv.fvs.psi(mvs_1500, type_='max')"
   ]
  }
 ],
 "metadata": {
  "kernelspec": {
   "display_name": "Python 3 (ipykernel)",
   "language": "python",
   "name": "python3"
  },
  "language_info": {
   "codemirror_mode": {
    "name": "ipython",
    "version": 3
   },
   "file_extension": ".py",
   "mimetype": "text/x-python",
   "name": "python",
   "nbconvert_exporter": "python",
   "pygments_lexer": "ipython3",
   "version": "3.9.15"
  }
 },
 "nbformat": 4,
 "nbformat_minor": 4
}
