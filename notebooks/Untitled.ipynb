{
 "cells": [
  {
   "cell_type": "code",
   "execution_count": 1,
   "id": "df676978-7e2c-49b9-af88-d3d34431940d",
   "metadata": {},
   "outputs": [],
   "source": [
    "import polymv"
   ]
  },
  {
   "cell_type": "code",
   "execution_count": 2,
   "id": "cad12ab4-e941-4ba1-b2fd-1d8361cb0cc1",
   "metadata": {},
   "outputs": [],
   "source": [
    "import healpy as hp\n",
    "import numpy as np"
   ]
  },
  {
   "cell_type": "code",
   "execution_count": 3,
   "id": "5096bc4d-3206-4d6f-82ed-7389ac072815",
   "metadata": {},
   "outputs": [],
   "source": [
    "alm = hp.synalm(np.ones(2000), lmax=1000)\n",
    "alm_ = np.vstack([alm.real, alm.imag])"
   ]
  },
  {
   "cell_type": "code",
   "execution_count": 4,
   "id": "bcb1a892-1113-4535-b33f-905f2fbfef38",
   "metadata": {},
   "outputs": [
    {
     "name": "stdout",
     "output_type": "stream",
     "text": [
      "CPU times: user 13min 1s, sys: 38.8 s, total: 13min 40s\n",
      "Wall time: 1min 13s\n"
     ]
    }
   ],
   "source": [
    "%time mvs = polymv.mvs(alm_[0], alm_[1], 1000) # n_threads(4)"
   ]
  },
  {
   "cell_type": "code",
   "execution_count": 4,
   "id": "772a9b58-3fc3-4949-94f8-e682d0be3889",
   "metadata": {},
   "outputs": [
    {
     "name": "stdout",
     "output_type": "stream",
     "text": [
      "CPU times: user 13min 22s, sys: 26.1 s, total: 13min 48s\n",
      "Wall time: 29.2 s\n"
     ]
    }
   ],
   "source": [
    "%time mvs = polymv.mvs(alm_[0], alm_[1], 1000) # new"
   ]
  },
  {
   "cell_type": "code",
   "execution_count": 5,
   "id": "513b73e5-91cb-4932-9e21-c124178d2f7a",
   "metadata": {},
   "outputs": [
    {
     "name": "stdout",
     "output_type": "stream",
     "text": [
      "CPU times: user 5min 1s, sys: 89.4 ms, total: 5min 1s\n",
      "Wall time: 16.7 s\n"
     ]
    }
   ],
   "source": [
    "%time fvs = polymv.fvs(mvs[0], mvs[1], 1000) # old"
   ]
  },
  {
   "cell_type": "code",
   "execution_count": 5,
   "id": "8d1533cf-707b-4b05-b38f-1201b096b7e9",
   "metadata": {},
   "outputs": [
    {
     "name": "stdout",
     "output_type": "stream",
     "text": [
      "CPU times: user 5min 1s, sys: 180 ms, total: 5min 1s\n",
      "Wall time: 16.7 s\n"
     ]
    }
   ],
   "source": [
    "%time fvs = polymv.fvs(mvs[0], mvs[1], 1000) # new"
   ]
  },
  {
   "cell_type": "code",
   "execution_count": null,
   "id": "7e8d8298-7166-4950-b477-97d3061daa1c",
   "metadata": {},
   "outputs": [],
   "source": [
    "mvs"
   ]
  }
 ],
 "metadata": {
  "kernelspec": {
   "display_name": "Python 3 (ipykernel)",
   "language": "python",
   "name": "python3"
  },
  "language_info": {
   "codemirror_mode": {
    "name": "ipython",
    "version": 3
   },
   "file_extension": ".py",
   "mimetype": "text/x-python",
   "name": "python",
   "nbconvert_exporter": "python",
   "pygments_lexer": "ipython3",
   "version": "3.10.16"
  }
 },
 "nbformat": 4,
 "nbformat_minor": 5
}
