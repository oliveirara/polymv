{
 "cells": [
  {
   "cell_type": "code",
   "execution_count": 1,
   "metadata": {},
   "outputs": [],
   "source": [
    "import numpy as np\n",
    "import healpy as hp\n",
    "\n",
    "from polymv import polymv\n",
    "from polymv import utils"
   ]
  },
  {
   "cell_type": "markdown",
   "metadata": {},
   "source": [
    "Let's create a test set of $a_{\\ell m}$s:"
   ]
  },
  {
   "cell_type": "code",
   "execution_count": 2,
   "metadata": {},
   "outputs": [],
   "source": [
    "lmax = 1500"
   ]
  },
  {
   "cell_type": "code",
   "execution_count": 3,
   "metadata": {
    "scrolled": true
   },
   "outputs": [
    {
     "data": {
      "text/plain": [
       "array([[ 1.62434536,  0.        ],\n",
       "       [-0.61175641,  0.        ],\n",
       "       [-0.52817175,  0.        ],\n",
       "       ...,\n",
       "       [ 0.46115612,  0.59244991],\n",
       "       [ 0.35090859,  1.18446272],\n",
       "       [-0.5622994 , -0.69337834]], shape=(1127251, 2))"
      ]
     },
     "execution_count": 3,
     "metadata": {},
     "output_type": "execute_result"
    }
   ],
   "source": [
    "np.random.seed(1)\n",
    "alm = hp.synalm(np.ones(2000), lmax=lmax)\n",
    "alm = np.column_stack([alm.real, alm.imag])\n",
    "alm"
   ]
  },
  {
   "cell_type": "markdown",
   "metadata": {},
   "source": [
    "# `polymv.mvs`"
   ]
  },
  {
   "cell_type": "markdown",
   "metadata": {},
   "source": [
    "To obtain multipole vectors:"
   ]
  },
  {
   "cell_type": "code",
   "execution_count": 4,
   "metadata": {},
   "outputs": [
    {
     "name": "stdout",
     "output_type": "stream",
     "text": [
      "Help on cython_function_or_method in module polymv.polymv:\n",
      "\n",
      "mvs(input1, input2, LMAX)\n",
      "    Get multipole vectors in spherical coordinates for a multipole given a map based on lmax.\n",
      "\n",
      "    Parameters:\n",
      "        input1 (float): Real part of multipole moments from a map (Healpy indexing).\n",
      "        input2 (float): Imaginary part of multipole moments from a map (Healpy indexing).\n",
      "        LMAX (int): Maximum l value to compute the multipole vectors.\n",
      "\n",
      "    Returns:\n",
      "        array: An array for all multipole vectors in spherical coordinates (theta, phi in radians) from l=2 to lmax.\n",
      "\n"
     ]
    }
   ],
   "source": [
    "help(polymv.mvs)"
   ]
  },
  {
   "cell_type": "markdown",
   "metadata": {},
   "source": [
    "Let's extract the multipole vectors from $\\ell=2$ to $\\ell=1500$:"
   ]
  },
  {
   "cell_type": "code",
   "execution_count": 5,
   "metadata": {},
   "outputs": [
    {
     "name": "stdout",
     "output_type": "stream",
     "text": [
      "CPU times: user 26min 12s, sys: 16.3 s, total: 26min 28s\n",
      "Wall time: 7min 12s\n"
     ]
    },
    {
     "data": {
      "text/plain": [
       "((2, 2251498),\n",
       " (array([1.83441666, 1.37302603, 1.30717599, ..., 0.07286444, 0.04895423,\n",
       "         0.01967822], shape=(2251498,)),\n",
       "  array([ 0.12767786,  1.33828394, -3.01391479, ...,  2.06658143,\n",
       "         -2.92918786,  0.48225845], shape=(2251498,))))"
      ]
     },
     "execution_count": 5,
     "metadata": {},
     "output_type": "execute_result"
    }
   ],
   "source": [
    "%%time\n",
    "mvs_1500 = polymv.mvs(alm[:, 0], alm[:, 1], lmax)\n",
    "np.vstack(mvs_1500).shape, mvs_1500"
   ]
  },
  {
   "cell_type": "markdown",
   "metadata": {},
   "source": [
    "# `polymv.otherfuncs`"
   ]
  },
  {
   "cell_type": "code",
   "execution_count": 6,
   "metadata": {},
   "outputs": [
    {
     "name": "stdout",
     "output_type": "stream",
     "text": [
      "Help on module polymv.utils in polymv:\n",
      "\n",
      "NAME\n",
      "    polymv.utils\n",
      "\n",
      "FUNCTIONS\n",
      "    get_mvs_from_many(mvs, lin, lout, l)\n",
      "        Get specific multiple vectors given a list of many (output from mvs).\n",
      "\n",
      "        Args:\n",
      "            mvs (np.ndarray): array containing multipole vectors [theta, phi].\n",
      "            lin (int): initial multipole.\n",
      "            lout (int): final multipole.\n",
      "            l (int): multipole.\n",
      "\n",
      "        Returns:\n",
      "            np.ndarray.\n",
      "\n",
      "    mvs_north(mvs)\n",
      "        Get multipole vectors on north hemisphere.\n",
      "\n",
      "        Args:\n",
      "            mvs (np.ndarray): array containing multipole vectors [theta, phi].\n",
      "\n",
      "        Returns:\n",
      "            np.ndarray [theta, phi] in radians.\n",
      "\n",
      "    to_cart(theta_phi_array)\n",
      "        Convert spherical to Cartesian coordinate. This function works only for a single multipole or stacked arrays, e.g. 2 and 3 MVs together.\n",
      "\n",
      "        Args:\n",
      "            theta_phi_array (np.ndarray): array containing in radians [theta, phi].\n",
      "\n",
      "        Returns:\n",
      "            np.ndarray.\n",
      "\n",
      "DATA\n",
      "    __test__ = {}\n",
      "\n",
      "FILE\n",
      "    /home/renan/polyMV-project/polyMV/polymv/utils.cpython-312-x86_64-linux-gnu.so\n",
      "\n",
      "\n"
     ]
    }
   ],
   "source": [
    "help(utils)"
   ]
  },
  {
   "cell_type": "markdown",
   "metadata": {},
   "source": [
    "Extract specific multipole vectors from many others:"
   ]
  },
  {
   "cell_type": "code",
   "execution_count": 7,
   "metadata": {},
   "outputs": [
    {
     "data": {
      "text/plain": [
       "array([[ 2.73836992,  2.08191869],\n",
       "       [ 1.52087956,  0.19300013],\n",
       "       [ 1.62071309, -2.94859252],\n",
       "       [ 2.34022757,  0.13144151],\n",
       "       [ 0.40322273, -1.05967396],\n",
       "       [ 0.80136509, -3.01015115]])"
      ]
     },
     "execution_count": 7,
     "metadata": {},
     "output_type": "execute_result"
    }
   ],
   "source": [
    "utils.get_mvs_from_many(np.vstack(mvs_1500).T, 2, lmax, 3)"
   ]
  },
  {
   "cell_type": "code",
   "execution_count": 8,
   "metadata": {},
   "outputs": [
    {
     "data": {
      "text/plain": [
       "array([[ 1.88305141, -3.08268267],\n",
       "       [ 2.0002518 , -1.95979302],\n",
       "       [ 2.39314475, -0.68251023],\n",
       "       [ 1.80531117,  0.80260215],\n",
       "       [ 2.58851484,  1.73458048],\n",
       "       [ 1.25854124,  0.05890998],\n",
       "       [ 1.14134086,  1.18179963],\n",
       "       [ 0.7484479 ,  2.45908243],\n",
       "       [ 1.33628148, -2.33899051],\n",
       "       [ 0.55307782, -1.40701218]])"
      ]
     },
     "execution_count": 8,
     "metadata": {},
     "output_type": "execute_result"
    }
   ],
   "source": [
    "utils.get_mvs_from_many(np.vstack(mvs_1500).T, 2, lmax, 5)"
   ]
  },
  {
   "cell_type": "markdown",
   "metadata": {},
   "source": [
    "Multipole vectors in Cartesian coordinates:"
   ]
  },
  {
   "cell_type": "code",
   "execution_count": 9,
   "metadata": {},
   "outputs": [
    {
     "name": "stdout",
     "output_type": "stream",
     "text": [
      "Help on cython_function_or_method in module polymv.utils:\n",
      "\n",
      "to_cart(theta_phi_array)\n",
      "    Convert spherical to Cartesian coordinate. This function works only for a single multipole or stacked arrays, e.g. 2 and 3 MVs together.\n",
      "\n",
      "    Args:\n",
      "        theta_phi_array (np.ndarray): array containing in radians [theta, phi].\n",
      "\n",
      "    Returns:\n",
      "        np.ndarray.\n",
      "\n"
     ]
    }
   ],
   "source": [
    "help(utils.to_cart)"
   ]
  },
  {
   "cell_type": "code",
   "execution_count": 10,
   "metadata": {
    "scrolled": true
   },
   "outputs": [
    {
     "data": {
      "text/plain": [
       "array([[ 0.95759438,  0.12293233, -0.26057752],\n",
       "       [ 0.22593142,  0.95412221,  0.19648358],\n",
       "       [-0.95759438, -0.12293233,  0.26057752],\n",
       "       ...,\n",
       "       [-0.03463258,  0.06403453,  0.99734656],\n",
       "       [-0.04783496, -0.01031598,  0.99880198],\n",
       "       [ 0.01743279,  0.0091258 ,  0.99980639]], shape=(2251498, 3))"
      ]
     },
     "execution_count": 10,
     "metadata": {},
     "output_type": "execute_result"
    }
   ],
   "source": [
    "utils.to_cart(np.vstack(mvs_1500).T)"
   ]
  },
  {
   "cell_type": "markdown",
   "metadata": {},
   "source": [
    "Obtain multipole vectors on north hemisphere:"
   ]
  },
  {
   "cell_type": "code",
   "execution_count": 11,
   "metadata": {},
   "outputs": [
    {
     "name": "stdout",
     "output_type": "stream",
     "text": [
      "Help on cython_function_or_method in module polymv.utils:\n",
      "\n",
      "mvs_north(mvs)\n",
      "    Get multipole vectors on north hemisphere.\n",
      "\n",
      "    Args:\n",
      "        mvs (np.ndarray): array containing multipole vectors [theta, phi].\n",
      "\n",
      "    Returns:\n",
      "        np.ndarray [theta, phi] in radians.\n",
      "\n"
     ]
    }
   ],
   "source": [
    "help(utils.mvs_north)"
   ]
  },
  {
   "cell_type": "code",
   "execution_count": 12,
   "metadata": {},
   "outputs": [
    {
     "data": {
      "text/plain": [
       "(2251498, 2)"
      ]
     },
     "execution_count": 12,
     "metadata": {},
     "output_type": "execute_result"
    }
   ],
   "source": [
    "np.vstack(mvs_1500).T.shape"
   ]
  },
  {
   "cell_type": "code",
   "execution_count": 13,
   "metadata": {
    "scrolled": true
   },
   "outputs": [
    {
     "data": {
      "text/plain": [
       "((1125749, 2),\n",
       " array([[ 1.37302603,  1.33828394],\n",
       "        [ 1.30717599, -3.01391479],\n",
       "        [ 1.52087956,  0.19300013],\n",
       "        ...,\n",
       "        [ 0.07286444,  2.06658143],\n",
       "        [ 0.04895423, -2.92918786],\n",
       "        [ 0.01967822,  0.48225845]], shape=(1125749, 2)))"
      ]
     },
     "execution_count": 13,
     "metadata": {},
     "output_type": "execute_result"
    }
   ],
   "source": [
    "utils.mvs_north(np.vstack(mvs_1500).T).shape, utils.mvs_north(np.vstack(mvs_1500).T)"
   ]
  },
  {
   "cell_type": "markdown",
   "metadata": {},
   "source": [
    "# `polymv.fvs`:"
   ]
  },
  {
   "cell_type": "code",
   "execution_count": 14,
   "metadata": {},
   "outputs": [
    {
     "name": "stdout",
     "output_type": "stream",
     "text": [
      "Help on cython_function_or_method in module polymv.polymv:\n",
      "\n",
      "fvs(input1, input2, LMAX)\n",
      "    Get Fréchet mean vectors in spherical coordinates for a multipole given a map based on lmax.\n",
      "\n",
      "    Parameters:\n",
      "        input1 (float): Multipole vector theta coordinate.\n",
      "        input2 (float): Multipole vector phi coordinate.\n",
      "        LMAX (int): Maximum l value to compute the Fréchet mean.\n",
      "\n",
      "    Returns:\n",
      "        array: An array for all Fréchet mean based on all multipole vectors in spherical coordinates (theta, phi) from l=2 to lmax.\n",
      "\n"
     ]
    }
   ],
   "source": [
    "help(polymv.fvs)"
   ]
  },
  {
   "cell_type": "code",
   "execution_count": 15,
   "metadata": {},
   "outputs": [
    {
     "name": "stdout",
     "output_type": "stream",
     "text": [
      "CPU times: user 6min 5s, sys: 437 ms, total: 6min 6s\n",
      "Wall time: 2min 35s\n"
     ]
    },
    {
     "data": {
      "text/plain": [
       "(array([0.39372199, 1.30678037, 1.41442982, ..., 0.79901509, 1.2620573 ,\n",
       "        0.46823184], shape=(1498,)),\n",
       " array([5.54727987, 1.64990686, 0.53026658, ..., 5.88028155, 0.76763323,\n",
       "        1.55541193], shape=(1498,)))"
      ]
     },
     "execution_count": 15,
     "metadata": {},
     "output_type": "execute_result"
    }
   ],
   "source": [
    "%%time\n",
    "polymv.fvs(mvs_1500[0], mvs_1500[1], lmax)"
   ]
  }
 ],
 "metadata": {
  "kernelspec": {
   "display_name": "Python (polymv)",
   "language": "python",
   "name": "polymv"
  },
  "language_info": {
   "codemirror_mode": {
    "name": "ipython",
    "version": 3
   },
   "file_extension": ".py",
   "mimetype": "text/x-python",
   "name": "python",
   "nbconvert_exporter": "python",
   "pygments_lexer": "ipython3",
   "version": "3.12.10"
  }
 },
 "nbformat": 4,
 "nbformat_minor": 4
}
